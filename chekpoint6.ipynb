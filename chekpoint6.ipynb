{
 "cells": [
  {
   "cell_type": "code",
   "execution_count": 6,
   "id": "4e22a57b",
   "metadata": {},
   "outputs": [
    {
     "data": {
      "text/plain": [
       "[[1, 2], [3, 4]]"
      ]
     },
     "execution_count": 6,
     "metadata": {},
     "output_type": "execute_result"
    }
   ],
   "source": [
    "import numpy as np  #question1\n",
    "a = np.array([[1, 2], [3, 4]])  \n",
    "b=a.tolist()  \n",
    "a  \n",
    "b  \n",
    "# used to convert the data elements of an array into a list."
   ]
  },
  {
   "cell_type": "code",
   "execution_count": 2,
   "id": "bb800d20",
   "metadata": {},
   "outputs": [
    {
     "name": "stdout",
     "output_type": "stream",
     "text": [
      "Original matrix:\n",
      "[[0 1 2]\n",
      " [3 4 5]]\n",
      "Condition number of the said matrix:\n",
      "4\n"
     ]
    }
   ],
   "source": [
    "import numpy as np                     #Question2\n",
    "m = np.arange(6).reshape(2,3)\n",
    "print(\"Original matrix:\")\n",
    "print(m)\n",
    "result =  np.trace(m)\n",
    "print(\"Condition number of the said matrix:\")\n",
    "print(result)"
   ]
  },
  {
   "cell_type": "code",
   "execution_count": 3,
   "id": "0708d707",
   "metadata": {},
   "outputs": [
    {
     "name": "stdout",
     "output_type": "stream",
     "text": [
      "Original matrix:\n",
      "\n",
      "[[0.07952691 0.85291204 0.57301372 0.61703348 0.49891653 0.86795528\n",
      "  0.45076073 0.8248738  0.19558404 0.52765278]\n",
      " [0.09320371 0.00959166 0.71601645 0.20436867 0.18176137 0.03442848\n",
      "  0.41009914 0.08427137 0.05654003 0.15821619]\n",
      " [0.33896175 0.07863256 0.24698249 0.37748508 0.86668651 0.42911412\n",
      "  0.01513533 0.41062324 0.40817407 0.46083349]\n",
      " [0.33985048 0.38018782 0.66731914 0.10134993 0.37258894 0.78187005\n",
      "  0.17391262 0.63634439 0.98286529 0.83593681]\n",
      " [0.00771941 0.0016752  0.56244352 0.18332847 0.53196242 0.86812361\n",
      "  0.68020209 0.18546692 0.07183805 0.68716962]]\n",
      "\n",
      "Subtract the mean of each row of the said matrix:\n",
      "\n",
      "[[-0.46929603  0.30408911  0.02419078  0.06821055 -0.0499064   0.31913235\n",
      "  -0.0980622   0.27605087 -0.35323889 -0.02117015]\n",
      " [-0.101646   -0.18525805  0.52116674  0.00951896 -0.01308833 -0.16042123\n",
      "   0.21524943 -0.11057833 -0.13830968 -0.03663351]\n",
      " [-0.02430111 -0.2846303  -0.11628038  0.01422221  0.50342365  0.06585125\n",
      "  -0.34812754  0.04736038  0.0449112   0.09757063]\n",
      " [-0.18737207 -0.14703473  0.1400966  -0.42587261 -0.1546336   0.2546475\n",
      "  -0.35330993  0.10912184  0.45564274  0.30871426]\n",
      " [-0.37027352 -0.37631773  0.18445059 -0.19466446  0.15396949  0.49013068\n",
      "   0.30220916 -0.19252601 -0.30615488  0.30917669]]\n"
     ]
    }
   ],
   "source": [
    "import numpy as np                #Question5\n",
    "print(\"Original matrix:\\n\")\n",
    "X = np.random.rand(5, 10)\n",
    "print(X)\n",
    "print(\"\\nSubtract the mean of each row of the said matrix:\\n\")\n",
    "Y = X - X.mean(axis=1, keepdims=True)\n",
    "print(Y)"
   ]
  },
  {
   "cell_type": "code",
   "execution_count": null,
   "id": "dbb06351",
   "metadata": {},
   "outputs": [],
   "source": []
  }
 ],
 "metadata": {
  "kernelspec": {
   "display_name": "Python 3 (ipykernel)",
   "language": "python",
   "name": "python3"
  },
  "language_info": {
   "codemirror_mode": {
    "name": "ipython",
    "version": 3
   },
   "file_extension": ".py",
   "mimetype": "text/x-python",
   "name": "python",
   "nbconvert_exporter": "python",
   "pygments_lexer": "ipython3",
   "version": "3.9.7"
  }
 },
 "nbformat": 4,
 "nbformat_minor": 5
}
